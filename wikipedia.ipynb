{
 "cells": [
  {
   "cell_type": "code",
   "execution_count": 1,
   "metadata": {},
   "outputs": [],
   "source": [
    "import wikipedia\n",
    "import requests"
   ]
  },
  {
   "cell_type": "code",
   "execution_count": 2,
   "metadata": {},
   "outputs": [],
   "source": [
    "pe = wikipedia.page(\"It Takes A Nation Of Millions To Hold Us Back\")"
   ]
  },
  {
   "cell_type": "code",
   "execution_count": 11,
   "metadata": {},
   "outputs": [
    {
     "ename": "AttributeError",
     "evalue": "'WikipediaPage' object has no attribute 'P577'",
     "output_type": "error",
     "traceback": [
      "\u001b[0;31m---------------------------------------------------------------------------\u001b[0m",
      "\u001b[0;31mAttributeError\u001b[0m                            Traceback (most recent call last)",
      "\u001b[0;32m<ipython-input-11-a2fa1fbf5043>\u001b[0m in \u001b[0;36m<module>\u001b[0;34m\u001b[0m\n\u001b[0;32m----> 1\u001b[0;31m \u001b[0mpe\u001b[0m\u001b[0;34m.\u001b[0m\u001b[0mP577\u001b[0m\u001b[0;34m\u001b[0m\u001b[0;34m\u001b[0m\u001b[0m\n\u001b[0m",
      "\u001b[0;31mAttributeError\u001b[0m: 'WikipediaPage' object has no attribute 'P577'"
     ]
    }
   ],
   "source": [
    "pe."
   ]
  },
  {
   "cell_type": "code",
   "execution_count": 12,
   "metadata": {},
   "outputs": [
    {
     "name": "stdout",
     "output_type": "stream",
     "text": [
      "200\n",
      "{'batchcomplete': '', 'query': {'pages': {'6710844': {'pageid': 6710844, 'ns': 0, 'title': 'Hello', 'contentmodel': 'wikitext', 'pagelanguage': 'en', 'pagelanguagehtmlcode': 'en', 'pagelanguagedir': 'ltr', 'touched': '2020-04-22T15:52:25Z', 'lastrevid': 952503534, 'length': 12517}}}}\n"
     ]
    }
   ],
   "source": [
    "import requests\n",
    "resp = requests.get(\"http://en.wikipedia.org/w/api.php?action=query&prop=info&format=json&titles=Hello\")\n",
    "print(resp.status_code)   #  200\n",
    "\n",
    "print(resp.json())"
   ]
  },
  {
   "cell_type": "code",
   "execution_count": 38,
   "metadata": {},
   "outputs": [
    {
     "data": {
      "text/plain": [
       "{'warnings': {'main': {'*': 'Unrecognized parameters: titles, rvprop, rvsection, rvparse.'},\n",
       "  'parse': {'*': 'Unrecognized value for parameter \"prop\": revisions'}},\n",
       " 'parse': {'title': 'API', 'pageid': 27697087}}"
      ]
     },
     "execution_count": 38,
     "metadata": {},
     "output_type": "execute_result"
    }
   ],
   "source": [
    "baseurl = \"http://en.wikipedia.org/w/api.php?\"\n",
    "\n",
    "# http://en.wikipedia.org/w/api.php?\n",
    "#     action=query&\n",
    "#     prop=revisions&\n",
    "#     rvprop=content&\n",
    "#     format=xmlfm&\n",
    "#     titles=Scary%20Monsters%20and%20Nice%20Sprites&\n",
    "#     rvsection=0\n",
    "\n",
    "my_atts = {\n",
    "    \"titles\": \"It Takes a Nation of Millions to Hold Us Back\",\n",
    "    \"prop\": \"revisions\",\n",
    "    \"action\": \"parse\",\n",
    "    \"format\": \"json\",\n",
    "    \"rvprop\" : \"content\",\n",
    "    \"rvsection\" : 0,\n",
    "    \"rvparse\" : \"\"\n",
    "}\n",
    "\n",
    "resp = requests.get(baseurl, params = my_atts)\n",
    "data = resp.json()\n",
    "\n",
    "data"
   ]
  },
  {
   "cell_type": "code",
   "execution_count": 70,
   "metadata": {},
   "outputs": [
    {
     "data": {
      "text/plain": [
       "'+2007-10-10T00:00:00Z'"
      ]
     },
     "execution_count": 70,
     "metadata": {},
     "output_type": "execute_result"
    }
   ],
   "source": [
    "# https://www.wikidata.org/w/api.php?\n",
    "#     action=wbgetentities&\n",
    "#     sites=enwiki&\n",
    "#     props=claims&\n",
    "#     titles=Donald Trump\n",
    "\n",
    "baseurl = \"https://www.wikidata.org/w/api.php?\"\n",
    "\n",
    "my_atts = {\n",
    "    \"titles\": \"In Rainbows\",\n",
    "    \"action\": \"wbgetentities\",\n",
    "    \"sites\": \"enwiki\",\n",
    "    \"props\": \"claims\",\n",
    "    \"format\": \"json\",\n",
    "#     titles=Donald Trump\n",
    "}\n",
    "\n",
    "resp = requests.get(baseurl, params = my_atts)\n",
    "data = resp.json()\n",
    "\n",
    "#data['entities']['Q926127']['claims']['P577'][0]['mainsnak']['datavalue']['value']['time']\n",
    "first_key = next(iter(data['entities']))\n",
    "data['entities'][first_key]['claims']['P577'][0]['mainsnak']['datavalue']['value']['time']"
   ]
  }
 ],
 "metadata": {
  "kernelspec": {
   "display_name": "Python 3",
   "language": "python",
   "name": "python3"
  },
  "language_info": {
   "codemirror_mode": {
    "name": "ipython",
    "version": 3
   },
   "file_extension": ".py",
   "mimetype": "text/x-python",
   "name": "python",
   "nbconvert_exporter": "python",
   "pygments_lexer": "ipython3",
   "version": "3.6.10"
  }
 },
 "nbformat": 4,
 "nbformat_minor": 4
}

{
 "cells": [
  {
   "cell_type": "code",
   "execution_count": 2,
   "metadata": {},
   "outputs": [],
   "source": [
    "import wikipedia\n",
    "import requests"
   ]
  },
  {
   "cell_type": "code",
   "execution_count": 3,
   "metadata": {},
   "outputs": [],
   "source": [
    "pe = wikipedia.page(\"It Takes A Nation Of Millions To Hold Us Back\")"
   ]
  },
  {
   "cell_type": "code",
   "execution_count": 4,
   "metadata": {},
   "outputs": [
    {
     "output_type": "execute_result",
     "data": {
      "text/plain": "\"It Takes a Nation of Millions to Hold Us Back is the second studio album by American hip hop group Public Enemy, released on June 28, 1988. The group set out to make the hip hop equivalent to Marvin Gaye's What's Going On, an album noted for its strong social commentary. Recording sessions took place throughout 1987 and 1988 at Chung King Studios, Greene St. Recording, and Sabella Studios in New York. Noting the enthusiastic response toward their live shows, Public Enemy intended to make faster music than their 1987 debut Yo! Bum Rush the Show for performance purposes.\\nIt Takes a Nation of Millions to Hold Us Back charted for 47 weeks on the US Billboard 200, peaking at number 42, and was certified Platinum by the RIAA in 1989. The album received widespread acclaim from critics, who praised its production techniques and the socially and politically charged lyricism of lead MC Chuck D. It also appeared on many publications' year-end top album lists for 1988 and was the runaway choice as the best album of 1988 in The Village Voice's Pazz & Jop critics' poll, a poll of the leading music critics in the US.Since its initial reception, It Takes a Nation of Millions to Hold Us Back has been regarded by music writers and publications as one of the greatest and most influential albums of all time. In 2000, it was voted number 92 in Colin Larkin's book All Time Top 1000 Albums, and in 2003, it was ranked number 48 on Rolling Stone magazine's list of the 500 greatest albums of all time, the highest ranking of all the hip hop albums on the list, and the only one acknowledged in the top hundred.\""
     },
     "metadata": {},
     "execution_count": 4
    }
   ],
   "source": [
    "pe.summary"
   ]
  },
  {
   "cell_type": "code",
   "execution_count": 5,
   "metadata": {},
   "outputs": [
    {
     "output_type": "stream",
     "name": "stdout",
     "text": "200\n{'batchcomplete': '', 'query': {'pages': {'6710844': {'pageid': 6710844, 'ns': 0, 'title': 'Hello', 'contentmodel': 'wikitext', 'pagelanguage': 'en', 'pagelanguagehtmlcode': 'en', 'pagelanguagedir': 'ltr', 'touched': '2020-04-22T15:52:25Z', 'lastrevid': 952503534, 'length': 12517}}}}\n"
    }
   ],
   "source": [
    "resp = requests.get(\"http://en.wikipedia.org/w/api.php?action=query&prop=info&format=json&titles=Hello\")\n",
    "print(resp.status_code)   #  200\n",
    "\n",
    "print(resp.json())"
   ]
  },
  {
   "cell_type": "code",
   "execution_count": 6,
   "metadata": {},
   "outputs": [
    {
     "output_type": "execute_result",
     "data": {
      "text/plain": "{'warnings': {'main': {'*': 'Unrecognized parameters: titles, rvprop, rvsection, rvparse.'},\n  'parse': {'*': 'Unrecognized value for parameter \"prop\": revisions'}},\n 'parse': {'title': 'API', 'pageid': 27697087}}"
     },
     "metadata": {},
     "execution_count": 6
    }
   ],
   "source": [
    "baseurl = \"http://en.wikipedia.org/w/api.php?\"\n",
    "\n",
    "# http://en.wikipedia.org/w/api.php?\n",
    "#     action=query&\n",
    "#     prop=revisions&\n",
    "#     rvprop=content&\n",
    "#     format=xmlfm&\n",
    "#     titles=Scary%20Monsters%20and%20Nice%20Sprites&\n",
    "#     rvsection=0\n",
    "\n",
    "my_atts = {\n",
    "    \"titles\": \"It Takes a Nation of Millions to Hold Us Back\",\n",
    "    \"prop\": \"revisions\",\n",
    "    \"action\": \"parse\",\n",
    "    \"format\": \"json\",\n",
    "    \"rvprop\" : \"content\",\n",
    "    \"rvsection\" : 0,\n",
    "    \"rvparse\" : \"\"\n",
    "}\n",
    "\n",
    "resp = requests.get(baseurl, params = my_atts)\n",
    "data = resp.json()\n",
    "\n",
    "data"
   ]
  },
  {
   "cell_type": "code",
   "execution_count": 70,
   "metadata": {},
   "outputs": [
    {
     "data": {
      "text/plain": [
       "'+2007-10-10T00:00:00Z'"
      ]
     },
     "execution_count": 70,
     "metadata": {},
     "output_type": "execute_result"
    }
   ],
   "source": [
    "# https://www.wikidata.org/w/api.php?\n",
    "#     action=wbgetentities&\n",
    "#     sites=enwiki&\n",
    "#     props=claims&\n",
    "#     titles=Donald Trump\n",
    "\n",
    "baseurl = \"https://www.wikidata.org/w/api.php?\"\n",
    "\n",
    "my_atts = {\n",
    "    \"titles\": \"In Rainbows\",\n",
    "    \"action\": \"wbgetentities\",\n",
    "    \"sites\": \"enwiki\",\n",
    "    \"props\": \"claims\",\n",
    "    \"format\": \"json\",\n",
    "#     titles=Donald Trump\n",
    "}\n",
    "\n",
    "resp = requests.get(baseurl, params = my_atts)\n",
    "data = resp.json()\n",
    "\n",
    "#data['entities']['Q926127']['claims']['P577'][0]['mainsnak']['datavalue']['value']['time']\n",
    "first_key = next(iter(data['entities']))\n",
    "data['entities'][first_key]['claims']['P577'][0]['mainsnak']['datavalue']['value']['time']"
   ]
  }
 ],
 "metadata": {
  "kernelspec": {
   "display_name": "Python 3",
   "language": "python",
   "name": "python3"
  },
  "language_info": {
   "codemirror_mode": {
    "name": "ipython",
    "version": 3
   },
   "file_extension": ".py",
   "mimetype": "text/x-python",
   "name": "python",
   "nbconvert_exporter": "python",
   "pygments_lexer": "ipython3",
   "version": "3.7.6-final"
  }
 },
 "nbformat": 4,
 "nbformat_minor": 4
}